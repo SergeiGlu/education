{
 "cells": [
  {
   "cell_type": "markdown",
   "metadata": {
    "pycharm": {
     "name": "#%% md\n"
    }
   },
   "source": [
    "[![Open In Colab](https://colab.research.google.com/assets/colab-badge.svg)](https://colab.research.google.com/github/ds-reboot/python-first-part/blob/main/notebooks/hometasks/Task3_dmrf_OOP.ipynb)"
   ]
  },
  {
   "cell_type": "markdown",
   "metadata": {
    "pycharm": {
     "name": "#%% md\n"
    }
   },
   "source": [
    "# Задание\n",
    "Реализовать с помощью объектно-ориентированного подхода предыдущие 2 задания. Создайте для каждой из задач отдельный класс, который позволяет ее решить.\n",
    "\n",
    "* Собрать информацию о всех строящихся объектах на сайте \"наш.дом.рф\"\n",
    "* Cохранить ее в pandas dataframe, а также в excel, pickle, БД\n",
    "\n",
    "* Проверить состояние датафрейма и привести его в формат, позволяющий дальнейшее исследование данных\n",
    "\n",
    "*  Сделать визуализацию для мини-исследования рынка строящейся недвижимости в одном или нескольких регионах с помощью pandas, matplotlib, seaborn, plotly и других инструментов.\n",
    "\n"
   ]
  },
  {
   "cell_type": "code",
   "execution_count": null,
   "metadata": {
    "pycharm": {
     "name": "#%%\n"
    }
   },
   "outputs": [],
   "source": [
    "import requests\n",
    "from tqdm import tqdm\n",
    "import pandas as pd"
   ]
  },
  {
   "cell_type": "markdown",
   "metadata": {
    "pycharm": {
     "name": "#%% md\n"
    }
   },
   "source": [
    "## Список объектов"
   ]
  },
  {
   "cell_type": "code",
   "execution_count": null,
   "metadata": {
    "pycharm": {
     "name": "#%%\n"
    }
   },
   "outputs": [],
   "source": [
    "offset_ = 1\n",
    "limit_ = 1000\n",
    "url = f'https://xn--80az8a.xn--d1aqf.xn--p1ai/%D1%81%D0%B5%D1%80%D0%B2%D0%B8%D1%81%D1%8B/api/kn/object?offset={offset_}&limit={limit_}&sortField=devId.devShortCleanNm&sortType=asc&objStatus=0'\n",
    "res = requests.get(url)\n",
    "objects_data = res.json()"
   ]
  },
  {
   "cell_type": "code",
   "execution_count": null,
   "metadata": {},
   "outputs": [],
   "source": [
    "objids = [x.get('objId') for x in objects_data.get('data').get('list')]\n",
    "objids"
   ]
  },
  {
   "cell_type": "code",
   "execution_count": null,
   "metadata": {},
   "outputs": [],
   "source": [
    "url = f'https://xn--80az8a.xn--d1aqf.xn--p1ai/%D1%81%D0%B5%D1%80%D0%B2%D0%B8%D1%81%D1%8B/api/object/13397'"
   ]
  },
  {
   "cell_type": "code",
   "execution_count": null,
   "metadata": {
    "scrolled": true
   },
   "outputs": [],
   "source": [
    "res = requests.get(url)\n",
    "objects_data = res.json()\n",
    "objects_data.get('data')"
   ]
  },
  {
   "cell_type": "code",
   "execution_count": null,
   "metadata": {},
   "outputs": [],
   "source": [
    "objects_data.get('data').get('id')"
   ]
  },
  {
   "cell_type": "code",
   "execution_count": null,
   "metadata": {},
   "outputs": [],
   "source": [
    "print('Создаем DS')\n",
    "col = ('ID дома:','Застройщик','Ввод в эксплуатацию','Выдача ключей','Средняя цена за 1 м²','Класс недвижимости'\n",
    "       ,'Количество квартир','Количество этажей','Жилая площадь, м²','Высота потолков, м'\n",
    "       , 'Количество мест в паркинге','Количество подъездов','Количество пассажирских лифтов'\n",
    "      )\n",
    "dict_ds = {k:[] for k in col}\n",
    "dict_ds"
   ]
  },
  {
   "cell_type": "code",
   "execution_count": null,
   "metadata": {
    "scrolled": true
   },
   "outputs": [],
   "source": [
    "# objids_ = [29679,13383]\n",
    "for idx in tqdm(objids[:10]):\n",
    "    url = f'https://xn--80az8a.xn--d1aqf.xn--p1ai/%D1%81%D0%B5%D1%80%D0%B2%D0%B8%D1%81%D1%8B/api/object/{idx}'\n",
    "    res = requests.get(url)\n",
    "    objects_data = res.json()\n",
    "    dict_ds['ID дома:'].append(objects_data.get('data').get('id'))\n",
    "    dict_ds['Застройщик'].append(objects_data.get('data').get('developer').get('devShortNm'))\n",
    "    dict_ds['Ввод в эксплуатацию'].append(objects_data.get('data').get('objReady100PercDt'))\n",
    "    dict_ds['Выдача ключей'].append(objects_data.get('data').get('objTransferPlanDt'))\n",
    "    dict_ds['Средняя цена за 1 м²'].append(objects_data.get('data').get('objPriceAvg'))\n",
    "    dict_ds['Класс недвижимости'].append(objects_data.get('data').get('objLkClassDesc'))\n",
    "    dict_ds['Количество квартир'].append(objects_data.get('data').get('objElemLivingCnt'))\n",
    "    dict_ds['Количество этажей'].append(objects_data.get('data').get('floorMax'))\n",
    "    dict_ds['Жилая площадь, м²'].append(objects_data.get('data').get('objSquareLiving'))\n",
    "    dict_ds['Высота потолков, м'].append(objects_data.get('data').get('objLivCeilingHeight'))\n",
    "    dict_ds['Количество мест в паркинге'].append(objects_data.get('data').get('objElemParkingCnt'))\n",
    "    dict_ds['Количество подъездов'].append(objects_data.get('data').get('objLivElemEntrCnt'))\n",
    "    dict_ds['Количество пассажирских лифтов'].append(objects_data.get('data').get('objElevatorPassengerCnt'))\n",
    "dict_ds"
   ]
  },
  {
   "cell_type": "code",
   "execution_count": null,
   "metadata": {},
   "outputs": [],
   "source": [
    "pd.DataFrame(dict_ds)"
   ]
  },
  {
   "cell_type": "code",
   "execution_count": null,
   "metadata": {},
   "outputs": [],
   "source": [
    "dict_ds"
   ]
  },
  {
   "cell_type": "markdown",
   "metadata": {
    "pycharm": {
     "name": "#%% md\n"
    }
   },
   "source": [
    "# Решение по заданию"
   ]
  },
  {
   "cell_type": "code",
   "execution_count": 8,
   "metadata": {},
   "outputs": [],
   "source": [
    "import requests\n",
    "from tqdm import tqdm\n",
    "import pandas as pd\n",
    "import numpy as np\n",
    "import seaborn as sns\n",
    "import ipywidgets as widgets\n",
    "from ipywidgets import interact, interactive, fixed, interact_manual\n",
    "from IPython.display import display"
   ]
  },
  {
   "cell_type": "code",
   "execution_count": 9,
   "metadata": {
    "pycharm": {
     "name": "#%%\n"
    }
   },
   "outputs": [],
   "source": [
    "class DomIdLoader:\n",
    "    def __init__(self):\n",
    "        self.offset_ = 1\n",
    "        self.limit_ = 1000\n",
    "        self.url = f'https://xn--80az8a.xn--d1aqf.xn--p1ai/%D1%81%D0%B5%D1%80%D0%B2%D0%B8%D1%81%D1%8B/api/kn/object?offset={self.offset_}&limit={self.limit_}&sortField=devId.devShortCleanNm&sortType=asc&objStatus=0'\n",
    "        self.objects_data = None\n",
    "\n",
    "    def get_ids(self):\n",
    "        res = requests.get(self.url)\n",
    "        self.objects_data = res.json()\n",
    "#         return self.objects_data\n",
    "\n",
    "    def show_ids(self, ):\n",
    "        self.objids = [x.get('objId') for x in self.objects_data.get('data').get('list')]\n",
    "#         print(self.objids)\n",
    "        return self.objids"
   ]
  },
  {
   "cell_type": "code",
   "execution_count": 10,
   "metadata": {
    "pycharm": {
     "name": "#%%\n"
    }
   },
   "outputs": [],
   "source": [
    "class ObjectInfoExtractor:\n",
    "    def __init__(self,list_idx):\n",
    "        self.list_idx = list_idx\n",
    "        self.dict_ds  = None\n",
    "\n",
    "    def load_data(self):\n",
    "        print('Создаем DS')\n",
    "        col = ('ID дома:','Застройщик','Ввод в эксплуатацию','Выдача ключей','Средняя цена за 1 м²','Класс недвижимости'\n",
    "               ,'Количество квартир','Количество этажей','Жилая площадь, м²','Высота потолков, м'\n",
    "               , 'Количество мест в паркинге','Количество подъездов','Количество пассажирских лифтов'\n",
    "              )\n",
    "        dict_ds = {k:[] for k in col}\n",
    "        \n",
    "        for idx in tqdm(self.list_idx):\n",
    "            url = f'https://xn--80az8a.xn--d1aqf.xn--p1ai/%D1%81%D0%B5%D1%80%D0%B2%D0%B8%D1%81%D1%8B/api/object/{idx}'\n",
    "            res = requests.get(url)\n",
    "            objects_data = res.json()\n",
    "            dict_ds['ID дома:'].append(objects_data.get('data').get('id'))\n",
    "            dict_ds['Застройщик'].append(objects_data.get('data').get('developer').get('devShortNm'))\n",
    "            dict_ds['Ввод в эксплуатацию'].append(objects_data.get('data').get('objReady100PercDt'))\n",
    "            dict_ds['Выдача ключей'].append(objects_data.get('data').get('objTransferPlanDt'))\n",
    "            dict_ds['Средняя цена за 1 м²'].append(objects_data.get('data').get('objPriceAvg'))\n",
    "            dict_ds['Класс недвижимости'].append(objects_data.get('data').get('objLkClassDesc'))\n",
    "            dict_ds['Количество квартир'].append(objects_data.get('data').get('objElemLivingCnt'))\n",
    "            dict_ds['Количество этажей'].append(objects_data.get('data').get('floorMax'))\n",
    "            dict_ds['Жилая площадь, м²'].append(objects_data.get('data').get('objSquareLiving'))\n",
    "            dict_ds['Высота потолков, м'].append(objects_data.get('data').get('objLivCeilingHeight'))\n",
    "            dict_ds['Количество мест в паркинге'].append(objects_data.get('data').get('objElemParkingCnt'))\n",
    "            dict_ds['Количество подъездов'].append(objects_data.get('data').get('objLivElemEntrCnt'))\n",
    "            dict_ds['Количество пассажирских лифтов'].append(objects_data.get('data').get('objElevatorPassengerCnt'))\n",
    "        self.dict_ds = dict_ds\n",
    "        \n",
    "#         return self.dict_ds\n",
    "        \n",
    "\n",
    "    def df_converter(self):\n",
    "        print('Создаем DataFrame')\n",
    "        data = pd.DataFrame(self.dict_ds)\n",
    "        data['Высота потолков, м'] = (data['Высота потолков, м']\n",
    "                                                         .fillna('0')\n",
    "                                                         .str.replace(',', '.')\n",
    "                                                         .str.split('-')\n",
    "                                                        #  .apply(lambda l: np.nan if any(pd.isna(l)) else )\n",
    "                                                         .apply(lambda l: list(map(float, l)))\n",
    "                                                        .apply(np.mean)\n",
    "                                                        )\n",
    "        data['Количество подъездов'] = data['Количество подъездов'].fillna(0)\n",
    "        return data"
   ]
  },
  {
   "cell_type": "code",
   "execution_count": 11,
   "metadata": {},
   "outputs": [],
   "source": [
    "a = DomIdLoader()\n",
    "a.get_ids()"
   ]
  },
  {
   "cell_type": "code",
   "execution_count": 12,
   "metadata": {},
   "outputs": [],
   "source": [
    "c = ObjectInfoExtractor(a.show_ids())"
   ]
  },
  {
   "cell_type": "code",
   "execution_count": 13,
   "metadata": {},
   "outputs": [
    {
     "name": "stderr",
     "output_type": "stream",
     "text": [
      "  0%|          | 1/1000 [00:00<02:02,  8.16it/s]"
     ]
    },
    {
     "name": "stdout",
     "output_type": "stream",
     "text": [
      "Создаем DS\n"
     ]
    },
    {
     "name": "stderr",
     "output_type": "stream",
     "text": [
      "100%|██████████| 1000/1000 [02:08<00:00,  7.81it/s]\n"
     ]
    }
   ],
   "source": [
    "c.load_data()"
   ]
  },
  {
   "cell_type": "code",
   "execution_count": 14,
   "metadata": {},
   "outputs": [
    {
     "name": "stdout",
     "output_type": "stream",
     "text": [
      "Создаем DataFrame\n"
     ]
    }
   ],
   "source": [
    "data = c.df_converter()"
   ]
  },
  {
   "cell_type": "code",
   "execution_count": 15,
   "metadata": {},
   "outputs": [
    {
     "data": {
      "text/html": [
       "<div>\n",
       "<style scoped>\n",
       "    .dataframe tbody tr th:only-of-type {\n",
       "        vertical-align: middle;\n",
       "    }\n",
       "\n",
       "    .dataframe tbody tr th {\n",
       "        vertical-align: top;\n",
       "    }\n",
       "\n",
       "    .dataframe thead th {\n",
       "        text-align: right;\n",
       "    }\n",
       "</style>\n",
       "<table border=\"1\" class=\"dataframe\">\n",
       "  <thead>\n",
       "    <tr style=\"text-align: right;\">\n",
       "      <th></th>\n",
       "      <th>ID дома:</th>\n",
       "      <th>Застройщик</th>\n",
       "      <th>Ввод в эксплуатацию</th>\n",
       "      <th>Выдача ключей</th>\n",
       "      <th>Средняя цена за 1 м²</th>\n",
       "      <th>Класс недвижимости</th>\n",
       "      <th>Количество квартир</th>\n",
       "      <th>Количество этажей</th>\n",
       "      <th>Жилая площадь, м²</th>\n",
       "      <th>Высота потолков, м</th>\n",
       "      <th>Количество мест в паркинге</th>\n",
       "      <th>Количество подъездов</th>\n",
       "      <th>Количество пассажирских лифтов</th>\n",
       "    </tr>\n",
       "  </thead>\n",
       "  <tbody>\n",
       "    <tr>\n",
       "      <th>0</th>\n",
       "      <td>13397</td>\n",
       "      <td>2МЕН ГРУПП</td>\n",
       "      <td>2024-12-31</td>\n",
       "      <td>28-02-2025 12:00</td>\n",
       "      <td>45523.0</td>\n",
       "      <td>Элитный</td>\n",
       "      <td>65</td>\n",
       "      <td>12</td>\n",
       "      <td>6248.51</td>\n",
       "      <td>2.96</td>\n",
       "      <td>0</td>\n",
       "      <td>0</td>\n",
       "      <td>5.0</td>\n",
       "    </tr>\n",
       "    <tr>\n",
       "      <th>1</th>\n",
       "      <td>13398</td>\n",
       "      <td>2МЕН ГРУПП</td>\n",
       "      <td>2024-12-31</td>\n",
       "      <td>28-02-2025 12:00</td>\n",
       "      <td>47886.0</td>\n",
       "      <td>Элитный</td>\n",
       "      <td>43</td>\n",
       "      <td>10</td>\n",
       "      <td>4812.98</td>\n",
       "      <td>2.96</td>\n",
       "      <td>0</td>\n",
       "      <td>0</td>\n",
       "      <td>3.0</td>\n",
       "    </tr>\n",
       "    <tr>\n",
       "      <th>2</th>\n",
       "      <td>13383</td>\n",
       "      <td>2МЕН ГРУПП</td>\n",
       "      <td>2022-12-31</td>\n",
       "      <td>28-02-2023 12:00</td>\n",
       "      <td>53109.0</td>\n",
       "      <td>Элитный</td>\n",
       "      <td>68</td>\n",
       "      <td>20</td>\n",
       "      <td>6293.78</td>\n",
       "      <td>2.80</td>\n",
       "      <td>31</td>\n",
       "      <td>0</td>\n",
       "      <td>5.0</td>\n",
       "    </tr>\n",
       "    <tr>\n",
       "      <th>3</th>\n",
       "      <td>13391</td>\n",
       "      <td>2МЕН ГРУПП</td>\n",
       "      <td>2022-12-31</td>\n",
       "      <td>28-02-2023 12:00</td>\n",
       "      <td>55893.0</td>\n",
       "      <td>Элитный</td>\n",
       "      <td>44</td>\n",
       "      <td>12</td>\n",
       "      <td>4297.44</td>\n",
       "      <td>2.80</td>\n",
       "      <td>41</td>\n",
       "      <td>0</td>\n",
       "      <td>2.0</td>\n",
       "    </tr>\n",
       "    <tr>\n",
       "      <th>4</th>\n",
       "      <td>13399</td>\n",
       "      <td>2МЕН ГРУПП</td>\n",
       "      <td>2024-12-31</td>\n",
       "      <td>28-02-2025 12:00</td>\n",
       "      <td>50768.0</td>\n",
       "      <td>Элитный</td>\n",
       "      <td>0</td>\n",
       "      <td>1</td>\n",
       "      <td>0.00</td>\n",
       "      <td>0.00</td>\n",
       "      <td>125</td>\n",
       "      <td>0</td>\n",
       "      <td>8.0</td>\n",
       "    </tr>\n",
       "  </tbody>\n",
       "</table>\n",
       "</div>"
      ],
      "text/plain": [
       "   ID дома:  Застройщик Ввод в эксплуатацию     Выдача ключей  \\\n",
       "0     13397  2МЕН ГРУПП          2024-12-31  28-02-2025 12:00   \n",
       "1     13398  2МЕН ГРУПП          2024-12-31  28-02-2025 12:00   \n",
       "2     13383  2МЕН ГРУПП          2022-12-31  28-02-2023 12:00   \n",
       "3     13391  2МЕН ГРУПП          2022-12-31  28-02-2023 12:00   \n",
       "4     13399  2МЕН ГРУПП          2024-12-31  28-02-2025 12:00   \n",
       "\n",
       "   Средняя цена за 1 м² Класс недвижимости  Количество квартир  \\\n",
       "0               45523.0            Элитный                  65   \n",
       "1               47886.0            Элитный                  43   \n",
       "2               53109.0            Элитный                  68   \n",
       "3               55893.0            Элитный                  44   \n",
       "4               50768.0            Элитный                   0   \n",
       "\n",
       "   Количество этажей  Жилая площадь, м²  Высота потолков, м  \\\n",
       "0                 12            6248.51                2.96   \n",
       "1                 10            4812.98                2.96   \n",
       "2                 20            6293.78                2.80   \n",
       "3                 12            4297.44                2.80   \n",
       "4                  1               0.00                0.00   \n",
       "\n",
       "   Количество мест в паркинге  Количество подъездов  \\\n",
       "0                           0                     0   \n",
       "1                           0                     0   \n",
       "2                          31                     0   \n",
       "3                          41                     0   \n",
       "4                         125                     0   \n",
       "\n",
       "   Количество пассажирских лифтов  \n",
       "0                             5.0  \n",
       "1                             3.0  \n",
       "2                             5.0  \n",
       "3                             2.0  \n",
       "4                             8.0  "
      ]
     },
     "execution_count": 15,
     "metadata": {},
     "output_type": "execute_result"
    }
   ],
   "source": [
    "data.head()"
   ]
  },
  {
   "cell_type": "code",
   "execution_count": 16,
   "metadata": {
    "pycharm": {
     "name": "#%%\n"
    }
   },
   "outputs": [],
   "source": [
    "class Saver:\n",
    "    def __init__(self, data):\n",
    "        self.data = data\n",
    "\n",
    "    def save_csv(self):\n",
    "        print('сохраняем в csv')\n",
    "        self.data.to_csv(f'/Users/19282873/Downloads/python-first-part-main/notebooks/hometasks/File/csv_1.csv')\n",
    "        print('CSV создан')\n",
    "        \n",
    "    def save_xl(self):\n",
    "        print('сохраняем в excel')\n",
    "        self.data.to_excel(f'/Users/19282873/Downloads/python-first-part-main/notebooks/hometasks/File/excel_1.xlsx', sheet_name = 'Sheet1')\n",
    "        print('Excel создан')\n",
    "        \n",
    "    def save_sql(self):\n",
    "        pass\n",
    "\n",
    "class Visualizer:\n",
    "    def __init__(self,data,devel):\n",
    "        self.data = data\n",
    "        self.devel = devel\n",
    "\n",
    "        \n",
    "    def make_boxplot(self, develop):\n",
    "        df = self.data\n",
    "        \n",
    "        @interact\n",
    "        def box_plotter(\n",
    "                        y = ['Средняя цена за 1 м²','Жилая площадь, м²','Высота потолков, м'\n",
    "                                  ,'Количество мест в паркинге','Количество пассажирских лифтов'],\n",
    "                        develop = list(self.data['Класс недвижимости'].unique())\n",
    "                       ):\n",
    "            devel = self.data['Класс недвижимости'] == develop\n",
    "            sns.catplot(x='Застройщик', \n",
    "                        y= y, \n",
    "                        aspect=3,\n",
    "                        kind=\"box\", \n",
    "                        showfliers=False,\n",
    "                        data=self.data[devel]);\n",
    "        \n",
    "    \n",
    "    \n",
    "    def make_heatmap(self):\n",
    "        corr = self.data[['Средняя цена за 1 м²','Жилая площадь, м²','Высота потолков, м'\n",
    "                          ,'Количество мест в паркинге','Количество пассажирских лифтов']].corr()\n",
    "        sns.heatmap(corr, annot=True, fmt='.2f',linewidths=.5, cmap=\"inferno\")"
   ]
  },
  {
   "cell_type": "code",
   "execution_count": 17,
   "metadata": {
    "pycharm": {
     "name": "#%%\n"
    }
   },
   "outputs": [],
   "source": [
    "d = Visualizer(data,'Элитный')"
   ]
  },
  {
   "cell_type": "code",
   "execution_count": 19,
   "metadata": {},
   "outputs": [
    {
     "data": {
      "image/png": "[encoded data removed]",
      "text/plain": [
       "<Figure size 432x288 with 2 Axes>"
      ]
     },
     "metadata": {
      "needs_background": "light"
     },
     "output_type": "display_data"
    }
   ],
   "source": [
    "d.make_heatmap()"
   ]
  }
 ],
 "metadata": {
  "kernelspec": {
   "display_name": "Python 3",
   "language": "python",
   "name": "python3"
  },
  "language_info": {
   "codemirror_mode": {
    "name": "ipython",
    "version": 3
   },
   "file_extension": ".py",
   "mimetype": "text/x-python",
   "name": "python",
   "nbconvert_exporter": "python",
   "pygments_lexer": "ipython3",
   "version": "3.8.5"
  }
 },
 "nbformat": 4,
 "nbformat_minor": 1
}
